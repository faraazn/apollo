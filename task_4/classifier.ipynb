{
 "cells": [
  {
   "cell_type": "code",
   "execution_count": 9,
   "metadata": {},
   "outputs": [],
   "source": [
    "import numpy as np\n",
    "import tensorflow as tf\n",
    "from tensorflow.examples.tutorials.mnist import input_data\n",
    "from classification_models import drnn_classification"
   ]
  },
  {
   "cell_type": "code",
   "execution_count": 10,
   "metadata": {},
   "outputs": [],
   "source": [
    "# configurations\n",
    "n_steps = 96*88\n",
    "input_dims = 1\n",
    "n_classes = 2 \n",
    "\n",
    "# model config\n",
    "cell_type = \"RNN\"\n",
    "assert(cell_type in [\"RNN\", \"LSTM\", \"GRU\"])\n",
    "hidden_structs = [20] * 9\n",
    "dilations = [1, 2, 4, 8, 16, 32, 64, 128, 256]\n",
    "assert(len(hidden_structs) == len(dilations))\n",
    "\n",
    "# learning config\n",
    "batch_size = 128\n",
    "learning_rate = 1.0e-3\n",
    "training_iters = 4\n",
    "testing_step = 5000\n",
    "display_step = 100\n",
    "\n",
    "# permutation seed \n",
    "seed = 92916"
   ]
  },
  {
   "cell_type": "code",
   "execution_count": 11,
   "metadata": {},
   "outputs": [
    {
     "name": "stdout",
     "output_type": "stream",
     "text": [
      "(13907, 192, 88, 1)\n",
      "(13907,)\n",
      "(2291, 192, 88, 1)\n",
      "(2291,)\n",
      "[0 1 0 ..., 0 0 1]\n"
     ]
    }
   ],
   "source": [
    "X = np.load(\"X_0.npy\").astype(np.float32)\n",
    "Y = np.load(\"Y_0.npy\").astype(np.int32)\n",
    "train_set = np.load(\"train_0.p\")\n",
    "valid_set = np.load(\"valid_0.p\")\n",
    "test_set = np.load(\"test_0.p\")\n",
    "train_data = X[len(valid_set):len(valid_set)+len(train_set)]\n",
    "train_labels = Y[len(valid_set):len(valid_set)+len(train_set)]\n",
    "eval_data = X[:len(valid_set)]\n",
    "eval_labels = Y[:len(valid_set)]\n",
    "print(train_data.shape)\n",
    "print(train_labels.shape)\n",
    "print(eval_data.shape)\n",
    "print(eval_labels.shape)\n",
    "print(train_labels)\n",
    "\n",
    "if 'seed' in globals():\n",
    "    rng_permute = np.random.RandomState(seed)\n",
    "    idx_permute = rng_permute.permutation(n_steps)\n",
    "else:\n",
    "    idx_permute = np.random.permutation(n_steps)"
   ]
  },
  {
   "cell_type": "code",
   "execution_count": 13,
   "metadata": {},
   "outputs": [
    {
     "name": "stdout",
     "output_type": "stream",
     "text": [
      "==> Building a dRNN with RNN cells\n",
      "Building layer: multi_dRNN_dilation_1, input length: 8448, dilation rate: 1, input dim: 1.\n",
      "=====> Input length for sub-RNN: 8448\n",
      "Building layer: multi_dRNN_dilation_2, input length: 8448, dilation rate: 2, input dim: 20.\n",
      "=====> Input length for sub-RNN: 4224\n",
      "Building layer: multi_dRNN_dilation_4, input length: 8448, dilation rate: 4, input dim: 20.\n",
      "=====> Input length for sub-RNN: 2112\n",
      "Building layer: multi_dRNN_dilation_8, input length: 8448, dilation rate: 8, input dim: 20.\n",
      "=====> Input length for sub-RNN: 1056\n",
      "Building layer: multi_dRNN_dilation_16, input length: 8448, dilation rate: 16, input dim: 20.\n",
      "=====> Input length for sub-RNN: 528\n",
      "Building layer: multi_dRNN_dilation_32, input length: 8448, dilation rate: 32, input dim: 20.\n",
      "=====> Input length for sub-RNN: 264\n",
      "Building layer: multi_dRNN_dilation_64, input length: 8448, dilation rate: 64, input dim: 20.\n",
      "=====> Input length for sub-RNN: 132\n",
      "Building layer: multi_dRNN_dilation_128, input length: 8448, dilation rate: 128, input dim: 20.\n",
      "=====> Input length for sub-RNN: 66\n",
      "building cost\n",
      "building optimizer\n",
      "building correct_pred\n",
      "building accuracy\n"
     ]
    }
   ],
   "source": [
    "# build computation graph\n",
    "tf.reset_default_graph()\n",
    "x = tf.placeholder(tf.float32, [None, n_steps, input_dims])\n",
    "y = tf.placeholder(tf.float32, [None, n_classes])    \n",
    "global_step = tf.Variable(0, name='global_step', trainable=False)\n",
    "\n",
    "# build prediction graph\n",
    "print(\"==> Building a dRNN with %s cells\" %cell_type)\n",
    "pred = drnn_classification(x, hidden_structs, dilations, n_steps, n_classes, input_dims, cell_type)\n",
    "\n",
    "# build loss and optimizer\n",
    "print(\"building cost\")\n",
    "cost = tf.reduce_mean(tf.nn.softmax_cross_entropy_with_logits(logits=pred, labels=y))\n",
    "print(\"building optimizer\")\n",
    "optimizer = tf.train.RMSPropOptimizer(learning_rate, 0.9).minimize(cost, global_step=global_step)\n",
    "\n",
    "# evaluation model\n",
    "print(\"building correct_pred\")\n",
    "correct_pred = tf.equal(tf.argmax(pred,1), tf.argmax(y,1))\n",
    "print(\"building accuracy\")\n",
    "accuracy = tf.reduce_mean(tf.cast(correct_pred, tf.float32))"
   ]
  },
  {
   "cell_type": "code",
   "execution_count": 14,
   "metadata": {},
   "outputs": [],
   "source": [
    "sess = tf.Session()\n",
    "init = tf.global_variables_initializer()\n",
    "sess.run(init)"
   ]
  },
  {
   "cell_type": "code",
   "execution_count": 15,
   "metadata": {},
   "outputs": [
    {
     "name": "stdout",
     "output_type": "stream",
     "text": [
      "(13907, 192, 88, 1)\n",
      "epoch 0\n",
      "0\n",
      "(128, 192, 88, 1)\n",
      "(128,)\n"
     ]
    },
    {
     "ename": "ValueError",
     "evalue": "cannot reshape array of size 2162688 into shape (128,8448,1)",
     "output_type": "error",
     "traceback": [
      "\u001b[0;31m---------------------------------------------------------------------------\u001b[0m",
      "\u001b[0;31mValueError\u001b[0m                                Traceback (most recent call last)",
      "\u001b[0;32m<ipython-input-15-9b3b3cb2b210>\u001b[0m in \u001b[0;36m<module>\u001b[0;34m()\u001b[0m\n\u001b[1;32m     31\u001b[0m     \u001b[0mprint\u001b[0m\u001b[0;34m(\u001b[0m\u001b[0mbatch_x\u001b[0m\u001b[0;34m.\u001b[0m\u001b[0mshape\u001b[0m\u001b[0;34m)\u001b[0m\u001b[0;34m\u001b[0m\u001b[0m\n\u001b[1;32m     32\u001b[0m     \u001b[0mprint\u001b[0m\u001b[0;34m(\u001b[0m\u001b[0mbatch_y\u001b[0m\u001b[0;34m.\u001b[0m\u001b[0mshape\u001b[0m\u001b[0;34m)\u001b[0m\u001b[0;34m\u001b[0m\u001b[0m\n\u001b[0;32m---> 33\u001b[0;31m     \u001b[0mbatch_x\u001b[0m \u001b[0;34m=\u001b[0m \u001b[0mbatch_x\u001b[0m\u001b[0;34m.\u001b[0m\u001b[0mreshape\u001b[0m\u001b[0;34m(\u001b[0m\u001b[0;34m[\u001b[0m\u001b[0mbatch_size\u001b[0m\u001b[0;34m,\u001b[0m \u001b[0mn_steps\u001b[0m\u001b[0;34m,\u001b[0m \u001b[0minput_dims\u001b[0m\u001b[0;34m]\u001b[0m\u001b[0;34m)\u001b[0m\u001b[0;34m\u001b[0m\u001b[0m\n\u001b[0m\u001b[1;32m     34\u001b[0m     \u001b[0mprint\u001b[0m\u001b[0;34m(\u001b[0m\u001b[0mbatch_x\u001b[0m\u001b[0;34m.\u001b[0m\u001b[0mshape\u001b[0m\u001b[0;34m)\u001b[0m\u001b[0;34m\u001b[0m\u001b[0m\n\u001b[1;32m     35\u001b[0m     \u001b[0mbatch_y\u001b[0m \u001b[0;34m=\u001b[0m \u001b[0mnp\u001b[0m\u001b[0;34m.\u001b[0m\u001b[0meye\u001b[0m\u001b[0;34m(\u001b[0m\u001b[0mn_classes\u001b[0m\u001b[0;34m)\u001b[0m\u001b[0;34m[\u001b[0m\u001b[0mbatch_y\u001b[0m\u001b[0;34m]\u001b[0m\u001b[0;34m\u001b[0m\u001b[0m\n",
      "\u001b[0;31mValueError\u001b[0m: cannot reshape array of size 2162688 into shape (128,8448,1)"
     ]
    }
   ],
   "source": [
    "step = 0\n",
    "train_results = []\n",
    "validation_results = []\n",
    "test_results = []\n",
    "\n",
    "index_in_epoch = 0\n",
    "num_examples = len(train_data)\n",
    "print(train_data.shape)\n",
    "epochs_completed = 0\n",
    "print(\"epoch 0\")\n",
    "\n",
    "while step < training_iters:\n",
    "#     batch_x, batch_y = mnist.train.next_batch(batch_size)\n",
    "    print(step)\n",
    "    start = index_in_epoch\n",
    "    index_in_epoch += batch_size\n",
    "    if index_in_epoch > num_examples:\n",
    "        epochs_completed += 1\n",
    "        print(\"epoch\", epochs_completed)\n",
    "        perm = np.arange(num_examples)\n",
    "        np.random.shuffle(perm)\n",
    "        train_data = train_data[perm]\n",
    "        train_labels = train_labels[perm]\n",
    "        start = 0\n",
    "        index_in_epoch = batch_size\n",
    "        assert batch_size <= num_examples\n",
    "    end = index_in_epoch\n",
    "    \n",
    "    batch_x = train_data[start:end]\n",
    "    batch_y = train_labels[start:end]\n",
    "    print(batch_x.shape)\n",
    "    print(batch_y.shape)\n",
    "    batch_x = batch_x.reshape([batch_size, n_steps, input_dims])\n",
    "    print(batch_x.shape)\n",
    "    batch_y = np.eye(n_classes)[batch_y]\n",
    "    print(batch_y.shape)\n",
    "    print(\"---\")\n",
    "    feed_dict = {\n",
    "        x : batch_x,\n",
    "        y : batch_y\n",
    "    }\n",
    "    cost_, accuracy_, step_,  _ = sess.run([cost, accuracy, global_step, optimizer], feed_dict=feed_dict)    \n",
    "    train_results.append((step_, cost_, accuracy_))    \n",
    "\n",
    "    if (step + 1) % display_step == 0:\n",
    "        print(\"Iter \" + str(step + 1) + \", Minibatch Loss: \" + \"{:.6f}\".format(cost_) \\\n",
    "        + \", Training Accuracy: \" + \"{:.6f}\".format(accuracy_))\n",
    "             \n",
    "    if (step + 1) % testing_step == 0:\n",
    "        \n",
    "        # validation performance\n",
    "        batch_x = mnist.validation.images\n",
    "        batch_y = mnist.validation.labels\n",
    "\n",
    "        # permute the data\n",
    "        batch_x = batch_x[:, idx_permute]        \n",
    "        batch_x = batch_x.reshape([-1, n_steps, input_dims])\n",
    "        feed_dict = {\n",
    "            x : batch_x,\n",
    "            y : batch_y\n",
    "        }\n",
    "        cost_, accuracy__, step_ = sess.run([cost, accuracy, global_step], feed_dict=feed_dict)\n",
    "        validation_results.append((step_, cost_, accuracy__))\n",
    "        \n",
    "        # test performance\n",
    "        batch_x = mnist.test.images\n",
    "        batch_y = mnist.test.labels\n",
    "        batch_x = batch_x[:, idx_permute]        \n",
    "        batch_x = batch_x.reshape([-1, n_steps, input_dims])\n",
    "        feed_dict = {\n",
    "            x : batch_x,\n",
    "            y : batch_y\n",
    "        }\n",
    "        cost_, accuracy_, step_ = sess.run([cost, accuracy, global_step], feed_dict=feed_dict)\n",
    "        test_results.append((step_, cost_, accuracy_))        \n",
    "        print(\"========> Validation Accuarcy: \" + \"{:.6f}\".format(accuracy__) \\\n",
    "        + \", Testing Accuarcy: \" + \"{:.6f}\".format(accuracy_))\n",
    "    step += 1"
   ]
  },
  {
   "cell_type": "code",
   "execution_count": null,
   "metadata": {},
   "outputs": [],
   "source": [
    "# validation performance\n",
    "batch_x = mnist.validation.images\n",
    "batch_y = mnist.validation.labels\n",
    "\n",
    "# permute the data\n",
    "batch_x = batch_x[:, idx_permute]        \n",
    "batch_x = batch_x.reshape([-1, n_steps, input_dims])\n",
    "feed_dict = {\n",
    "    x : batch_x,\n",
    "    y : batch_y\n",
    "}\n",
    "cost_, accuracy__, step_ = sess.run([cost, accuracy, global_step], feed_dict=feed_dict)\n",
    "validation_results.append((step_, cost_, accuracy__))\n",
    "\n",
    "# test performance\n",
    "batch_x = mnist.test.images\n",
    "batch_y = mnist.test.labels\n",
    "batch_x = batch_x[:, idx_permute]        \n",
    "batch_x = batch_x.reshape([-1, n_steps, input_dims])\n",
    "feed_dict = {\n",
    "    x : batch_x,\n",
    "    y : batch_y\n",
    "}\n",
    "cost_, accuracy_, step_ = sess.run([cost, accuracy, global_step], feed_dict=feed_dict)\n",
    "test_results.append((step_, cost_, accuracy_))        \n",
    "print(\"========> Validation Accuarcy: \" + \"{:.6f}\".format(accuracy__) \\\n",
    "+ \", Testing Accuarcy: \" + \"{:.6f}\".format(accuracy_))"
   ]
  },
  {
   "cell_type": "code",
   "execution_count": null,
   "metadata": {},
   "outputs": [],
   "source": []
  }
 ],
 "metadata": {
  "kernelspec": {
   "display_name": "Python 3",
   "language": "python",
   "name": "python3"
  },
  "language_info": {
   "codemirror_mode": {
    "name": "ipython",
    "version": 3
   },
   "file_extension": ".py",
   "mimetype": "text/x-python",
   "name": "python",
   "nbconvert_exporter": "python",
   "pygments_lexer": "ipython3",
   "version": "3.6.4"
  }
 },
 "nbformat": 4,
 "nbformat_minor": 2
}
